{
 "cells": [
  {
   "cell_type": "markdown",
   "metadata": {},
   "source": [
    "# PROJECT: Course Optimization for Data Science\n",
    "## Optimization strategies for anomaly detection\n",
    "## with One class Support Vector Machines (OCSVM)"
   ]
  },
  {
   "cell_type": "markdown",
   "metadata": {},
   "source": [
    "Author: Alexandre Gramfort\n",
    "\n",
    "If you have questions or if something is not clear in the text below please contact us\n",
    "by email.\n",
    "\n",
    "## Aim:\n",
    "\n",
    "- derive the dual for the one-class SVM model\n",
    "- implement a one-class SVM using a blackbox convex toolbox (cvxopt in Python)\n",
    "- implement your own solvers with: Proximal gradient, Coordinate Descent, Quasi-Newton\n",
    "- Present a clear benchmark of the different strategies on small and medium scale datasets\n",
    "\n",
    "\n",
    "## VERY IMPORTANT\n",
    "\n",
    "This work must be done by pairs of students.\n",
    "Each student must send their work before the 7th of January at 23:59, using the moodle platform.\n",
    "This means that **each student in the pair sends the same file**\n",
    "\n",
    "On the moodle, in the \"Optimization for Data Science\" course, you have a \"devoir\" section called \"Project\".\n",
    "This is where you submit your jupyter notebook file.\n",
    "\n",
    "The name of the file must be constructed as in the next cell\n",
    "\n",
    "### Gentle reminder: no evaluation if you don't respect this EXACTLY\n",
    "\n",
    "#### How to construct the name of your file"
   ]
  },
  {
   "cell_type": "code",
   "execution_count": 852,
   "metadata": {},
   "outputs": [
    {
     "name": "stdout",
     "output_type": "stream",
     "text": [
      "project_xue_xingyuan_and_jin_ling.ipynb\n"
     ]
    }
   ],
   "source": [
    "# Change here using YOUR first and last names\n",
    "fn1 = \"Xingyuan\"\n",
    "ln1 = \"Xue\"\n",
    "fn2 = \"Ling\"\n",
    "ln2 = \"Jin\"\n",
    "\n",
    "filename = \"_\".join(map(lambda s: s.strip().lower(), \n",
    "                        [\"project\", ln1, fn1, \"and\", ln2, fn2])) + \".ipynb\"\n",
    "print(filename)"
   ]
  },
  {
   "cell_type": "markdown",
   "metadata": {},
   "source": [
    "Some imports"
   ]
  },
  {
   "cell_type": "code",
   "execution_count": 853,
   "metadata": {
    "collapsed": true
   },
   "outputs": [],
   "source": [
    "%matplotlib inline\n",
    "import numpy as np\n",
    "from scipy import linalg\n",
    "import time\n",
    "import matplotlib.pyplot as plt"
   ]
  },
  {
   "cell_type": "markdown",
   "metadata": {},
   "source": [
    "## Important:\n",
    "\n",
    "For Part 0 to Part 2 of the project you will need a working install of `cvxopt`.\n",
    "You may struggle a bit to set it up.\n",
    "The simplest way of getting it is by typing \n",
    "\n",
    "`conda install cvxopt`\n",
    "\n",
    "or\n",
    "\n",
    "`pip install cvxopt`\n",
    "\n",
    "if you have `conda` or `pip` installed on your laptop.\n",
    "If you **struggle too much please\n",
    "contact us**."
   ]
  },
  {
   "cell_type": "markdown",
   "metadata": {},
   "source": [
    "## Part 0: One-class SVM"
   ]
  },
  {
   "cell_type": "markdown",
   "metadata": {},
   "source": [
    "The original formulation of the One-Class SVM introduced by Schölkopf [1] is given by\n",
    "\n",
    "$$\n",
    "    (\\mathcal{P}): \\left\\{\n",
    "\t\\begin{aligned}\n",
    "\t\\min_{w, \\rho, \\xi} & \\quad \\frac{1}{2}\\Vert w \\Vert^2 - \\rho + \\frac{1}{\\nu n} \\sum_{i=1}^n \\xi_i \\\\\n",
    "\t\\text{s.t.} & \\quad \\langle w, x_i \\rangle \\geq \\rho - \\xi_i \\quad 1 \\leq i \\leq n \\\\\n",
    "\t& \\quad \\xi_i \\geq 0 \\quad 1 \\leq i \\leq n\n",
    "\t\\end{aligned}\n",
    "    \\right.\n",
    "$$\n",
    "\n",
    "where $\\nu \\in (0, 1]$ is a user-specified parameter controlling the proportion of outliers and the proportion of support vectors.\n",
    "\n",
    "Getting rid of the slack variables $\\xi_i, 1 \\leq i \\leq n$ one can also obtain the following equivalent optimization problem\n",
    "\n",
    "$$\n",
    "\t\\min_{w, \\rho} \\frac{1}{2}\\Vert w \\Vert^2 - \\rho + \\frac{1}{\\nu n} \\sum_{i=1}^n \\max(0, \\rho - \\langle w, x_i \\rangle) \\, .\n",
    "$$\n",
    "\n",
    "The idea is that the lower is $\\langle w, x_i \\rangle$ is the more $x_i$ is an anomaly and if $\\langle w, x_i \\rangle \\geq \\rho$ then the model predicts the sample is normal. $\\langle w, x_i \\rangle$ corresponds to the decision function and $\\textrm{sign}(\\langle w, x_i \\rangle - \\rho)$ as the prediction (1 means normal sample).\n",
    "\n",
    "[1] Schölkopf et al. Estimating the support of a high-dimensional distribution. Neural Computation. 2001"
   ]
  },
  {
   "cell_type": "markdown",
   "metadata": {},
   "source": [
    "<div class=\"alert alert-success\">\n",
    "    <b>QUESTION 1:</b>\n",
    "     <ul>\n",
    "      <li>Justify that the problem $(\\mathcal{P})$ is convex.</li>\n",
    "    </ul>\n",
    "</div>"
   ]
  },
  {
   "cell_type": "markdown",
   "metadata": {},
   "source": [
    "**ANSWER HERE**"
   ]
  },
  {
   "cell_type": "markdown",
   "metadata": {},
   "source": [
    "In order to justify that the problem is convex, we will verify the following formulas are all convex:\n",
    "$$\\quad \\frac{1}{2}\\Vert w \\Vert^2 - \\rho + \\frac{1}{\\nu n} \\sum_{i=1}^n \\xi_i \\quad (1)$$\n",
    "$$\\rho - \\xi_i - \\langle w, x_i \\rangle  \\quad 1 \\leq i \\leq n \\quad (2)$$\n",
    "$$- \\xi_i \\quad 1 \\leq i \\leq n \\quad (3).$$\n",
    "\n",
    "For (1), the Hessian matrix of $(w, \\rho, \\xi)$ H is a matrix whose first element is 1 and all the rest elements are 0. $\\forall y, y^THy = y_1^Ty_1 \\geq 0$, which means that H is a semi positive-definite matrix. So (1) is convex.\n",
    "\n",
    "For (2) and (3), it is that same as the demonstration of (1). The Hessian matrix of (2) and (3) are semi positive-definite, so they are convex.\n",
    "\n",
    "In summary, the problem $\\mathcal{P}$ is convex."
   ]
  },
  {
   "cell_type": "markdown",
   "metadata": {},
   "source": [
    "<div class=\"alert alert-success\">\n",
    "    <b>QUESTION 2:</b>\n",
    "     <ul>\n",
    "      <li>\n",
    "      By looking at the saddle points of the Lagrangian $\\mathcal{L}(w, \\rho, \\mu)$ of $\\mathcal{P}$, $\\mu \\in \\mathbb{R}_+^n$, show that the dual problem $(\\mathcal{D})$ can be written as:\n",
    "$$\n",
    "(\\mathcal{D}): \n",
    " \\left\\{\n",
    " \\begin{array}{lll}\n",
    " \\min_{\\mu} &\\frac{1}{2}\\mu^{\\top}GG^{t}\\mu\n",
    " \\\\\n",
    " \\mathrm{s.t.}& \\mu^{\\top}1_n = 1\n",
    " \\\\\n",
    " \\mathrm{and}& 0 \\leq \\mu \\leq \\frac{1}{\\nu n}\n",
    " \\end{array}\n",
    " \\right .\n",
    "$$\n",
    "\n",
    "with\n",
    "\n",
    "$$\n",
    " G = \\begin{bmatrix}x_{1}^{\\top} \\\\ \\vdots \\\\ x_{n}^{\\top}\\end{bmatrix}\n",
    "$$\n",
    "\n",
    "and $1_n = (1, \\dots, 1) \\in \\mathbb{R}^n$.\n",
    "    </li>\n",
    "    </ul>\n",
    "</div>\n",
    "\n",
    "We will **assume here qualification of the contraints** and that **strong duality holds**.\n",
    "\n",
    "**Remark:** The problem $(\\mathcal{D})$ is a *quadratic program* (QP) for which their exist off-the-shelf techniques. See below."
   ]
  },
  {
   "cell_type": "markdown",
   "metadata": {},
   "source": [
    "ANSWER HERE"
   ]
  },
  {
   "cell_type": "markdown",
   "metadata": {},
   "source": [
    "**ANSWER**\n",
    "\n",
    "- The Lagrangian of the problem $\\mathcal{P}$ can be written as follows:\n",
    "\n",
    "$$\\mathcal{L}(w, \\rho, \\xi, \\mu, \\lambda)=\\frac{1}{2}\\Vert w \\Vert^2 - \\rho + \\frac{1}{\\nu n} \\sum_{i=1}^n \\xi_i-\\sum_{i=1}^n\\mu_i ( \\langle w, x_i \\rangle- \\rho + \\xi_i)-\\sum_{i=1}^n\\lambda_i \\xi_i$$\n",
    "\n",
    "With $\\mu_i, \\lambda_i\\geq 0, 1\\leq i\\leq n$.\n",
    "\n",
    "We take the derivatives with respect to $w, \\rho, \\xi$ and set those values to zeros. We have:\n",
    "$$\n",
    " \\left\\{\n",
    " \\begin{array}{lll}\n",
    " \\frac{\\partial L}{\\partial w}=w-\\sum_{i=1}^n\\mu_ix_i=0 \\Rightarrow w=\\sum_{i=1}^n\\mu_ix_i=G^{t}\\mu\n",
    " \\\\\n",
    " \\frac{\\partial L}{\\partial \\rho}=\\sum_{i=1}^n\\mu_i-1=0 \\Rightarrow \\mu^{\\top}1_n = 1\n",
    " \\\\\n",
    " \\frac{\\partial L}{\\partial \\xi_i}=\\frac{1}{\\nu n}-\\mu_i-\\lambda_i=0\n",
    " \\end{array}\n",
    " \\right .\n",
    "$$\n",
    "As $\\mu_i,\\lambda_i\\geq 0$, the last equation can be written as $0\\leq\\mu_i\\leq\\frac{1}{\\nu n}$. Putting these equations back into the Lagrangian $\\mathcal{L}(w, \\rho, \\xi, \\mu, \\lambda)$, we can obtain the dual problem:\n",
    "$$\n",
    "\\max_{\\mu} -\\frac{1}{2}\\mu^{\\top}GG^{t}\\mu \\Leftrightarrow \\min_{\\mu} \\frac{1}{2}\\mu^{\\top}GG^{t}\\mu\n",
    "$$\n",
    "With the box constraints and the constraint $\\mu^{\\top}1_n = 1$."
   ]
  },
  {
   "cell_type": "markdown",
   "metadata": {},
   "source": [
    "<div class=\"alert alert-success\">\n",
    "    <b>QUESTION 3:</b>\n",
    "     <ul>\n",
    "     <li>Justify that given the estimated $\\mu$, the prediction function for a new sample $x$ (-1 if anomaly else 1) is given by:\n",
    "        $$\n",
    "        y = \\mathrm{sign}(\\sum_{i=1}^{n} \\mu_i x_i^\\top x - \\rho) \\enspace .\n",
    "        $$\n",
    "        The vector $w$ is therefore equal to $\\sum_{i=1}^{n} \\mu_i x_i$\n",
    "    </li>\n",
    "    </ul>\n",
    "</div>"
   ]
  },
  {
   "cell_type": "markdown",
   "metadata": {},
   "source": [
    "**ANSWER HERE**\n",
    "\n",
    "In question 2, we have worked out the saddle point of $w$ is $\\sum_{i=1}^n\\mu_ix_i$. As our prediction function is $\\textrm{sign}(\\langle w, x_i \\rangle - \\rho)$, it comes out that: $$y = \\mathrm{sign}(\\sum_{i=1}^{n} \\mu_i x_i^\\top x - \\rho) \\enspace .$$"
   ]
  },
  {
   "cell_type": "markdown",
   "metadata": {},
   "source": [
    "## Part 1: Implementation of solver using cvxopt"
   ]
  },
  {
   "cell_type": "markdown",
   "metadata": {},
   "source": [
    "Let's make a toy dataset in dimension 2. When using a linear kernel we need all samples to have positive values and the outliers to be close to the origin."
   ]
  },
  {
   "cell_type": "code",
   "execution_count": 854,
   "metadata": {},
   "outputs": [
    {
     "data": {
      "image/png": "[encoded data removed]",
      "text/plain": [
       "<matplotlib.figure.Figure at 0x1145ebf60>"
      ]
     },
     "metadata": {},
     "output_type": "display_data"
    }
   ],
   "source": [
    "def make_dataset(n_samples, contamination=0.05, random_state=42):\n",
    "    rng = np.random.RandomState(random_state)\n",
    "    X_inliers = rng.uniform(low=2, high=5, size=(int(n_samples * (1 - contamination)), 2))\n",
    "    X_outliers = rng.uniform(low=0, high=1, size=(int(n_samples * contamination), 2))\n",
    "    X = np.concatenate((X_inliers, X_outliers), axis=0)\n",
    "    rng.shuffle(X)\n",
    "    return X\n",
    "\n",
    "X = make_dataset(150)\n",
    "plt.scatter(X[:, 0], X[:, 1], color='b');"
   ]
  },
  {
   "cell_type": "markdown",
   "metadata": {},
   "source": [
    "- The following function qp allows to solve a quadratic problem of the form:\n",
    "\n",
    "$$\n",
    "\\left\\{\n",
    "  \\begin{array}{cll}\n",
    "  &\\min_{(x)} \\frac{1}{2}x^{\\top} P x + q^\\top x\n",
    "  \\\\\n",
    "   & \\textrm{s.t.}\\; A x = b, 0 \\leq x \\leq C.\n",
    "  \\end{array}\n",
    "  \\right.\n",
    "$$\n",
    "\n",
    "See documentation: http://cvxopt.org/userguide/coneprog.html#quadratic-programming"
   ]
  },
  {
   "cell_type": "code",
   "execution_count": 855,
   "metadata": {
    "collapsed": true
   },
   "outputs": [],
   "source": [
    "import cvxopt\n",
    "\n",
    "\n",
    "def qp(P, q, A, b, C, verbose=True):\n",
    "    # Gram matrix\n",
    "    n = P.shape[0]\n",
    "    P = cvxopt.matrix(P)\n",
    "    q = cvxopt.matrix(q)\n",
    "    A = cvxopt.matrix(A)\n",
    "    b = cvxopt.matrix(b)\n",
    "    G = cvxopt.matrix(np.concatenate([np.diag(np.ones(n) * -1),\n",
    "                                     np.diag(np.ones(n))], axis=0))\n",
    "    h = cvxopt.matrix(np.concatenate([np.zeros(n), C * np.ones(n)]))\n",
    "\n",
    "    # Solve QP problem\n",
    "    cvxopt.solvers.options['show_progress'] = verbose\n",
    "    solution = cvxopt.solvers.qp(P, q, G, h, A, b, solver='mosec')\n",
    " \n",
    "    return np.ravel(solution['x'])"
   ]
  },
  {
   "cell_type": "markdown",
   "metadata": {},
   "source": [
    "Definition of the linear kernel:"
   ]
  },
  {
   "cell_type": "code",
   "execution_count": 856,
   "metadata": {
    "collapsed": true
   },
   "outputs": [],
   "source": [
    "def kernel(X1, X2):\n",
    "    n1 = X1.shape[0]\n",
    "    n2 = X2.shape[0]\n",
    "    K = np.empty((n1, n2))\n",
    "    for i in range(n1):\n",
    "        for j in range(n2):\n",
    "            K[i, j] = np.dot(X1[i], X2[j])\n",
    "    return K"
   ]
  },
  {
   "cell_type": "markdown",
   "metadata": {},
   "source": [
    "**Remark:** You can use `sklearn.metrics.pairwise_distances` to avoid the for loops and make it faster."
   ]
  },
  {
   "cell_type": "markdown",
   "metadata": {},
   "source": [
    "<div class=\"alert alert-success\">\n",
    "    <b>QUESTION 4:</b>\n",
    "     <ul>\n",
    "      <li>Modify the following cell to solve the One-Class SVM dual problem.</li>\n",
    "    </ul>\n",
    "</div>"
   ]
  },
  {
   "cell_type": "code",
   "execution_count": 857,
   "metadata": {},
   "outputs": [
    {
     "name": "stdout",
     "output_type": "stream",
     "text": [
      "Number of support vectors: 15\n"
     ]
    }
   ],
   "source": [
    "# TODO\n",
    "def ocsvm_solver(K, nu=0.1):\n",
    "    P = K\n",
    "    q = np.zeros(P.shape[0])\n",
    "    A = np.ones(P.shape[0]).reshape(1, P.shape[0])\n",
    "    b = 1.0\n",
    "    C = 1 / (nu*P.shape[0])\n",
    "    mu = qp(P, q, A, b, C, verbose=False)\n",
    "    idx_support = np.where(np.abs(mu) > 1e-5)[0]\n",
    "    mu_support = mu[idx_support]\n",
    "    return mu_support, idx_support\n",
    "\n",
    "K = kernel(X, X)\n",
    "\n",
    "# Uncomment the following lines when your ocsvm_solver is completed:\n",
    "mu_support, idx_support = ocsvm_solver(K)\n",
    "print(\"Number of support vectors: %s\" % idx_support.size)"
   ]
  },
  {
   "cell_type": "markdown",
   "metadata": {},
   "source": [
    "<div class=\"alert alert-success\">\n",
    "    <b>QUESTION 5:</b>\n",
    "     <ul>\n",
    "      <li>Compute w using mu.</li>\n",
    "    </ul>\n",
    "</div>"
   ]
  },
  {
   "cell_type": "code",
   "execution_count": 858,
   "metadata": {},
   "outputs": [
    {
     "data": {
      "text/plain": [
       "array([ 0.06711409,  0.06711409,  0.06040269,  0.06711409,  0.06711408,\n",
       "        0.06711409,  0.06711409,  0.06711409,  0.06711409,  0.06711409,\n",
       "        0.06711409,  0.06711409,  0.06711409,  0.06711409,  0.06711409])"
      ]
     },
     "execution_count": 858,
     "metadata": {},
     "output_type": "execute_result"
    }
   ],
   "source": [
    "mu_support"
   ]
  },
  {
   "cell_type": "code",
   "execution_count": 859,
   "metadata": {
    "collapsed": true
   },
   "outputs": [],
   "source": [
    "# TODO\n",
    "w = np.dot(mu_support, X[idx_support])"
   ]
  },
  {
   "cell_type": "code",
   "execution_count": 860,
   "metadata": {},
   "outputs": [
    {
     "data": {
      "text/plain": [
       "array([ 1.48709845,  1.42325338])"
      ]
     },
     "execution_count": 860,
     "metadata": {},
     "output_type": "execute_result"
    }
   ],
   "source": [
    "w"
   ]
  },
  {
   "cell_type": "markdown",
   "metadata": {},
   "source": [
    "<div class=\"alert alert-success\">\n",
    "    <b>QUESTION 6:</b>\n",
    "     <ul>\n",
    "      <li>Using complementary slackness, explain how to obtain $\\rho$ from $\\mu$.</li>\n",
    "    </ul>\n",
    "</div>\n",
    "\n",
    "**HINT:** Use the fact that for all support vectors for which $0 < \\mu_i < \\frac{1}{\\nu n}$ one has $w^{t}x_{i} = \\rho$."
   ]
  },
  {
   "cell_type": "markdown",
   "metadata": {},
   "source": [
    "**ANSWER HERE**\n",
    "\n",
    "For those $x_i$ with the corresponding $\\mu_i>0$, as we have complementary slackness:\n",
    "$$\\mu_i ( \\langle w, x_i \\rangle- \\rho + \\xi_i)=0$$\n",
    "\n",
    "We have $\\rho= \\langle w, x_i \\rangle+ \\xi_i$. \n",
    "\n",
    "If furthermore we have $\\mu_i < \\frac{1}{\\nu n}$, as $\\frac{1}{\\nu n}-\\mu_i-\\lambda_i=0$, we have $\\lambda_i>0$. From the complementary slackness for the second constraint $\\lambda_i \\xi_i=0$, we have $\\xi_i=0$.\n",
    "\n",
    "Thus for $0 < \\mu_i < \\frac{1}{\\nu n}$, $\\rho=w^{t}x_{i} $. \n",
    "\n",
    "For numeric stability, we use the mean of the estimations. The estimation of $\\rho$ is thus given by:\n",
    "\n",
    "$$\\rho = \\frac{1}{N_{\\mathcal{M}}}\\sum_{i=1}^{N_{\\mathcal{M}}}\\langle w, x_i \\rangle$$\n",
    "Where $\\mathcal{M}$ is the collections of $x_i$ whose corresponding $\\mu_i$ satisfying the condition $0 < \\mu_i < \\frac{1}{\\nu n}$.\n",
    "\n",
    "While in our case, it is more appropriate to choose the rows of K which corresponds to minimum $\\mu$ support because of computation accuracy."
   ]
  },
  {
   "cell_type": "code",
   "execution_count": 861,
   "metadata": {
    "collapsed": true
   },
   "outputs": [],
   "source": [
    "# TODO\n",
    "\n",
    "def compute_rho(K, mu_support, idx_support):\n",
    "    # TODO\n",
    "    K_support = K[idx_support][:, idx_support]\n",
    "    idx_min = np.argmin(mu_support)\n",
    "    n_nu = 1 / (0.05*X.shape[0])\n",
    "    # rho correspond to minimum rho\n",
    "    rho = np.dot(K_support[idx_min], mu_support)\n",
    "    # average rho for numerical stability\n",
    "    #rho = sum(np.dot(mu_support, K_support[mu_support < n_nu]))/ K_support[mu_support < n_nu].shape[0]\n",
    "    return rho\n",
    "\n",
    "com_rho = compute_rho(K, mu_support, idx_support)"
   ]
  },
  {
   "cell_type": "markdown",
   "metadata": {},
   "source": [
    "<div class=\"alert alert-success\">\n",
    "    <b>QUESTION 7:</b>\n",
    "     <ul>\n",
    "      <li>Verify that you find the same values as what scikit-learn gives. You should have the same support vectors and:\n",
    "\n",
    "\n",
    "`rho = -ocsvm.intercept_[0] / (ocsvm.nu * len(K))`\n",
    "\n",
    "and `mu_support = ocsvm.dual_coef_.ravel() / (ocsvm.nu * len(K))`</li>\n",
    "    </ul>\n",
    "</div>"
   ]
  },
  {
   "cell_type": "code",
   "execution_count": 862,
   "metadata": {},
   "outputs": [
    {
     "name": "stdout",
     "output_type": "stream",
     "text": [
      "[  4  23  66  72  90  92 109 113]\n",
      "[  4  23  66  72  90  92 109 113]\n",
      "2.16400352023\n",
      "2.16400355501\n",
      "[ 0.13422819  0.13422819  0.06040268  0.13422819  0.13422819  0.13422819\n",
      "  0.13422819  0.13422819]\n",
      "[ 0.13422819  0.13422819  0.06040268  0.13422819  0.13422819  0.13422819\n",
      "  0.13422819  0.13422819]\n"
     ]
    }
   ],
   "source": [
    "from sklearn.utils.testing import assert_array_almost_equal\n",
    "from sklearn.utils.testing import assert_almost_equal\n",
    "from sklearn.svm import OneClassSVM\n",
    "\n",
    "X = make_dataset(150)\n",
    "\n",
    "ocsvm = OneClassSVM(kernel='linear', nu=0.05)\n",
    "ocsvm.fit(X)\n",
    "\n",
    "K = kernel(X, X)\n",
    "mu_support, idx_support = ocsvm_solver(K, nu=ocsvm.nu)\n",
    "rho = compute_rho(K, mu_support, idx_support)\n",
    "\n",
    "# Check indices of support vectors\n",
    "print(ocsvm.support_)\n",
    "print(idx_support)\n",
    "\n",
    "# Check rho\n",
    "print(rho)\n",
    "print(-ocsvm.intercept_[0] / (ocsvm.nu * len(K)))\n",
    "\n",
    "# Check dual variables\n",
    "print(mu_support)\n",
    "print(ocsvm.dual_coef_.ravel() / (ocsvm.nu * len(K)))\n",
    "\n",
    "# Run formal tests:\n",
    "assert_array_almost_equal(ocsvm.support_, idx_support)\n",
    "assert_almost_equal(rho, -ocsvm.intercept_[0] / (ocsvm.nu * len(K)))\n",
    "assert_array_almost_equal(mu_support, ocsvm.dual_coef_.ravel() / (ocsvm.nu * len(K)))"
   ]
  },
  {
   "cell_type": "markdown",
   "metadata": {},
   "source": [
    "Check your code by running the following cell:"
   ]
  },
  {
   "cell_type": "code",
   "execution_count": 863,
   "metadata": {},
   "outputs": [
    {
     "data": {
      "image/png": "[encoded data removed]",
      "text/plain": [
       "<matplotlib.figure.Figure at 0x113e52c50>"
      ]
     },
     "metadata": {},
     "output_type": "display_data"
    }
   ],
   "source": [
    "X = make_dataset(300)\n",
    "\n",
    "K = kernel(X, X)\n",
    "mu_support, idx_support = ocsvm_solver(K, nu=0.05)\n",
    "rho = compute_rho(K, mu_support, idx_support)\n",
    "\n",
    "def plot_ocsvm(X, mu_support, idx_support, rho, kernel=kernel):\n",
    "    # Compute decision function on a grid\n",
    "    X1, X2 = np.mgrid[-1:5.1:0.2, -1:5.1:0.2]\n",
    "    na, nb = X1.shape\n",
    "    X_test = np.c_[np.reshape(X1, (na * nb, 1)),\n",
    "                   np.reshape(X2, (na * nb, 1))]\n",
    "\n",
    "    # Compute dot products\n",
    "    X_support = X[idx_support]\n",
    "    G = kernel(X_test, X_support)\n",
    "    # Compute decision function\n",
    "    decision = G.dot(mu_support) - rho\n",
    "\n",
    "    # Compute predict label\n",
    "    y_pred = np.sign(decision)\n",
    "\n",
    "    # Plot decision boundary\n",
    "    plt.plot(X[:,0], X[:, 1], 'or', linewidth=2)\n",
    "    Z = np.reshape(decision, (na, nb))\n",
    "    plt.contourf(X1, X2, Z, 20, cmap=plt.cm.gray)\n",
    "    cs = plt.contour(X1, X2, Z, [0], colors='y', linewidths=2, zorder=10)\n",
    "    plt.xlabel('x1')\n",
    "    plt.ylabel('x2')\n",
    "    plt.xlim([-1, 5])\n",
    "    plt.ylim([-1, 5])\n",
    "\n",
    "plot_ocsvm(X, mu_support, idx_support, rho)"
   ]
  },
  {
   "cell_type": "markdown",
   "metadata": {},
   "source": [
    "<div class=\"alert alert-success\">\n",
    "    <b>QUESTION 8:</b>\n",
    "     <ul>\n",
    "      <li>Without any implementation, can you justify if you can apply any of the algorithm, among proximal gradient, coordinate descent, stochastic gradient descent and L-BFGS to the dual problem?\n",
    "      </li>\n",
    "    </ul>\n",
    "</div>"
   ]
  },
  {
   "cell_type": "markdown",
   "metadata": {},
   "source": [
    "**ANSWER HERE** \n",
    "- coordinate descent: objective function of the primal problem is nonseperable and nonsmooth. However, the objective function of dual problem as following is seperable:\n",
    "$$\\min_{\\mu} \\frac{1}{2}\\mu^TGG^t\\mu - \\sum_{i=1}^n\\mu_i + \\mathbb{I}_{[0, \\frac{1}{n\\nu}]^n }(\\mu) $$\n",
    "The first two terms is a differentiable convex function, the third term is a nonsmooth convex and separable function. So we can use Stochastic Dual Coordinate Descent to solve it.\n",
    "- proximal gradient: The objective function above can be separated to a differentiable and a nonsmooth function, so we can use proximal gradient.\n",
    "- stochastic gradient descent: As we can see, the objective function is not totally separable or smooth. \n",
    "- L-BFGS: In the dual problem, the objective function is twice-differentiable and we have a box constraint. L-BFGS-B can solve this kind of problems with box constraint."
   ]
  },
  {
   "cell_type": "markdown",
   "metadata": {},
   "source": [
    "## Part 1: non-linear case with kernels"
   ]
  },
  {
   "cell_type": "markdown",
   "metadata": {},
   "source": [
    "Another scenario is when the boundary between normal samples and outliers is not linear.\n",
    "\n",
    "To cope with this the idea is to use kernels.\n",
    "\n",
    "<div class=\"alert alert-success\">\n",
    "    <b>QUESTION 9:</b>\n",
    "     <ul>\n",
    "      <li>Denoting by $K(x_i, x_j)$ the dot product between samples show that dual problem and the decision function f(x) can be reformulated just using calls to $K$\n",
    "      </li>\n",
    "    </ul>\n",
    "</div>"
   ]
  },
  {
   "cell_type": "markdown",
   "metadata": {},
   "source": [
    "**ANSWER HERE**\n",
    "\n",
    "In case of using kernels, our samples and outliers become $\\phi(x_i),\\forall 1 \\leq i \\leq n$. As $<\\phi(x_i), \\phi(x_j)>=K(x_i,x_j)$, the Gram matrix in the problem can be written as $(<\\phi(x_i), \\phi(x_j)>)_{ij}=(K(x_i, x_j))_{ij}$. Thus the minimization dual problem can be reformulated by just using calls to $K$. \n",
    "\n",
    "The decision function is given by $f(x) = \\mathrm{sign}(\\sum_{i=1}^{n} \\mu_i x_i^\\top x - \\rho)$ originally while in this case, $x$ should be replaced by $\\phi(x)$. Thus it is written as: \n",
    "$$f(x) = \\mathrm{sign}(\\sum_{i=1}^{n} \\mu_i <\\phi(x_i), \\phi(x)> - \\rho) = \\mathrm{sign}(\\sum_{i=1}^{n} \\mu_i K(x_i, x) - \\rho)$$ \n",
    "\n",
    "Thus the decision function can also be reformulated by just using calls to $K$."
   ]
  },
  {
   "cell_type": "markdown",
   "metadata": {},
   "source": [
    "ANSWER HERE"
   ]
  },
  {
   "cell_type": "markdown",
   "metadata": {},
   "source": [
    "We will use another dataset to evaluate this:"
   ]
  },
  {
   "cell_type": "code",
   "execution_count": 864,
   "metadata": {},
   "outputs": [
    {
     "data": {
      "image/png": "[encoded data removed]",
      "text/plain": [
       "<matplotlib.figure.Figure at 0x1129472e8>"
      ]
     },
     "metadata": {},
     "output_type": "display_data"
    }
   ],
   "source": [
    "def make_blob_dataset(n_samples, contamination=0.05, random_state=42):\n",
    "    rng = np.random.RandomState(random_state)\n",
    "    X_inliers = 0.3 * rng.normal(size=(int(n_samples * (1. - contamination)), 2)) + 2\n",
    "    X_outliers = rng.uniform(low=-1, high=5, size=(int(n_samples * contamination), 2))\n",
    "    X = np.concatenate((X_inliers, X_outliers), axis=0)\n",
    "    rng.shuffle(X)\n",
    "    return X\n",
    "\n",
    "X = make_blob_dataset(300)\n",
    "plt.scatter(X[:, 0], X[:, 1], color='b');"
   ]
  },
  {
   "cell_type": "markdown",
   "metadata": {},
   "source": [
    "<div class=\"alert alert-success\">\n",
    "    <b>QUESTION 10:</b>\n",
    "     <ul>\n",
    "      <li>Update your kernel function so it computes the Gaussian kernel:\n",
    "      \n",
    "        $$\n",
    "            K(x_i, x_j) = \\exp(-\\gamma \\| x_i - x_j \\|^2)\n",
    "        $$\n",
    "\n",
    "        where $\\gamma > 0$ is the kernel bandwidth.\n",
    "      </li>\n",
    "    </ul>\n",
    "</div>"
   ]
  },
  {
   "cell_type": "code",
   "execution_count": 171,
   "metadata": {
    "collapsed": true
   },
   "outputs": [],
   "source": [
    "# TODO\n",
    "\n",
    "from scipy import linalg\n",
    "\n",
    "def rbf_kernel(X1, X2):\n",
    "    n1 = X1.shape[0]\n",
    "    n2 = X2.shape[0]\n",
    "    K = np.empty((n1, n2))\n",
    "    gamma = .3\n",
    "    for i in range(n1):\n",
    "        for j in range(n2):\n",
    "            K[i, j] = np.exp(-gamma * np.linalg.norm(X1[i] - X2[j])**2)  # CHANGE THIS\n",
    "    return K"
   ]
  },
  {
   "cell_type": "markdown",
   "metadata": {},
   "source": [
    "Using the change above the follwing code should allow you to nicely separate the dense region from the outliers"
   ]
  },
  {
   "cell_type": "code",
   "execution_count": 401,
   "metadata": {},
   "outputs": [
    {
     "data": {
      "image/png": "[encoded data removed]",
      "text/plain": [
       "<matplotlib.figure.Figure at 0x112a1e2e8>"
      ]
     },
     "metadata": {},
     "output_type": "display_data"
    }
   ],
   "source": [
    "X = make_blob_dataset(150)\n",
    "\n",
    "K = rbf_kernel(X, X)\n",
    "mu_support, idx_support = ocsvm_solver(K, nu=0.1)\n",
    "rho = compute_rho(K, mu_support, idx_support)\n",
    "\n",
    "plot_ocsvm(X, mu_support, idx_support, rho, kernel=rbf_kernel)"
   ]
  },
  {
   "cell_type": "markdown",
   "metadata": {},
   "source": [
    "## Part 2: One-class SVM without $\\rho$\n",
    "\n",
    "Formulation for example used in:\n",
    "\n",
    "```\n",
    "Consistency of one-class SVM and related algorithms\n",
    "Régis Vert and Jean-philippe Vert\n",
    "NIPS 2006\n",
    "```"
   ]
  },
  {
   "cell_type": "markdown",
   "metadata": {},
   "source": [
    "The problem of the formuation of SVMs with the variable $\\rho$ is that\n",
    "it leads to an annoying constraint in the dual, namely the $\\mu^{\\top}1_n = 1$.\n",
    "\n",
    "We will now see what we can do about it.\n",
    "\n",
    "Let's consider the problem\n",
    "\n",
    "$$\n",
    "\t\\begin{aligned}\n",
    "\t\\min_{w, \\xi} & \\quad \\frac{1}{2}\\Vert w \\Vert^2 + \\frac{C}{n} \\sum_{i=1}^n \\xi_i \\\\\n",
    "\t\\text{s.t.} & \\quad \\langle w, x_i \\rangle \\geq 1 - \\xi_i \\quad 1 \\leq i \\leq n \\\\\n",
    "\t& \\quad \\xi_i \\geq 0 \\quad 1 \\leq i \\leq n\n",
    "\t\\end{aligned}\n",
    "$$"
   ]
  },
  {
   "cell_type": "markdown",
   "metadata": {},
   "source": [
    "<div class=\"alert alert-success\">\n",
    "    <b>QUESTION 10:</b>\n",
    "     <ul>\n",
    "      <li>Show that a dual problem of this problem is given by:\n",
    "      \n",
    "        $$\n",
    "        (\\mathcal{D}):\n",
    "            \\left\\{\n",
    "            \\begin{array}{lll}\n",
    "            \\min_{\\mu} &\\frac{1}{2}\\mu^{\\top}GG^{\\top}\\mu-\\mu^{\\top} 1_n\n",
    "            \\\\\n",
    "            \\mathrm{s.t.}& 0 \\leq \\mu \\leq \\frac{C}{n}\n",
    "            \\end{array}\n",
    "            \\right .\n",
    "        $$\n",
    "      </li>\n",
    "    </ul>\n",
    "</div>"
   ]
  },
  {
   "cell_type": "markdown",
   "metadata": {},
   "source": [
    "**ANSWER**\n",
    "\n",
    "- The Lagrangian of the problem $\\mathcal{P}$ can be written as follows:\n",
    "\n",
    "$$\\mathcal{L}(w, \\xi, \\mu, \\lambda)=\\frac{1}{2}\\Vert w \\Vert^2 + \\frac{C}{n} \\sum_{i=1}^n \\xi_i-\\sum_{i=1}^n\\mu_i ( \\langle w, x_i \\rangle- 1 + \\xi_i)-\\sum_{i=1}^n\\lambda_i \\xi_i$$\n",
    "\n",
    "With $\\mu_i, \\lambda_i\\geq 0, 1\\leq i\\leq n$.\n",
    "\n",
    "We take the derivatives with respect to $w, \\rho, \\xi$ and set those values to zeros. We have:\n",
    "$$\n",
    " \\left\\{\n",
    " \\begin{array}{ll}\n",
    " \\frac{\\partial L}{\\partial w}=w-\\sum_{i=1}^n\\mu_ix_i=0 \\Rightarrow w=\\sum_{i=1}^n\\mu_ix_i=G^{t}\\mu\n",
    " \\\\\n",
    " \\frac{\\partial L}{\\partial \\xi_i}=\\frac{C}{n}-\\mu_i-\\lambda_i=0\n",
    " \\end{array}\n",
    " \\right .\n",
    "$$\n",
    "As $\\mu_i,\\lambda_i\\geq 0$, the last equation can be written as $0\\leq\\mu_i\\leq\\frac{C}{n}$. Combining these equations together, we can obtain the dual problem $(\\mathcal{D})$. We take all these parameters into Lagrangian of the problem and deduce that the dual problem is $(\\mathcal{D})$:\n",
    "$$\\max_{\\mu} -\\frac{1}{2}\\mu^{\\top}GG^{t}\\mu + \\mu^{\\top}1_n \\Leftrightarrow \\min_{\\mu} \\frac{1}{2}\\mu^{\\top}GG^{t}\\mu - \\mu^{\\top}1_n\n",
    "$$"
   ]
  },
  {
   "cell_type": "markdown",
   "metadata": {},
   "source": [
    "<div class=\"alert alert-success\">\n",
    "    <b>QUESTION 11:</b>\n",
    "     <ul>\n",
    "      <li> Rewrite the dual in the form:\n",
    "      \n",
    "            $$\n",
    "            (\\mathcal{D}): \\min_{\\mu} f(\\mu) + g(\\mu) .\n",
    "            $$\n",
    "\n",
    "            where $f$ is here a smooth function of $\\mu$ with L-Liptschitz gradient and $g$ is a non-smooth function that is separable, namely:\n",
    "\n",
    "            $$\n",
    "            g(\\mu) = \\sum_{i=1}^n g_i(\\mu_i)\n",
    "            $$\n",
    "      </li>\n",
    "    </ul>\n",
    "</div>\n",
    "\n"
   ]
  },
  {
   "cell_type": "markdown",
   "metadata": {},
   "source": [
    "**ANSWER HERE**\n",
    "\n",
    "We can rewrite the dual as following formula:\n",
    "$$\\min_{\\mu} \\frac{1}{2}\\mu^TGG^t\\mu - \\sum_{i=1}^n\\mu_i + \\mathbb{I}_{[0, \\frac{C}{n}]^n }(\\mu) $$\n",
    "where $f(\\mu) = \\frac{1}{2}\\mu^TGG^t\\mu$ is a smooth funciton and $g(\\mu)= - \\sum_{i=1}^n\\mu_i + \\mathbb{I}_{[0, \\frac{C}{n}]^n }(\\mu) = - \\sum_{i=1}^n (\\mu_i + \\mathbb{I}_{[0, \\frac{C}{n}]}(\\mu_i) )$ is a non-smooth and separable function."
   ]
  },
  {
   "cell_type": "markdown",
   "metadata": {},
   "source": [
    "The dual in the later form can be readily optimized using the methods that you have been studying in this class:\n",
    "\n",
    "- Proximal gradient method with and without acceleration\n",
    "- L-BFGS-B\n",
    "- Coordinate descent"
   ]
  },
  {
   "cell_type": "markdown",
   "metadata": {},
   "source": [
    "<div class=\"alert alert-success\">\n",
    "    <b>QUESTION 12:</b>\n",
    "    Implement:\n",
    "     <ul>\n",
    "      <li> your own solver based on the QP function in cvxopt (reuse `qp` function above).</li>\n",
    "      <li> your own solver of proximal gradient with and without acceleration</li>\n",
    "      <li> your own version of coordinate descent</li>\n",
    "      <li> an L-BFGS-B solver using `scipy.optimize.fmin_l_bfgs_b`</li>\n",
    "    </ul>\n",
    "</div>"
   ]
  },
  {
   "cell_type": "markdown",
   "metadata": {},
   "source": [
    "### Data"
   ]
  },
  {
   "cell_type": "code",
   "execution_count": 824,
   "metadata": {
    "collapsed": true
   },
   "outputs": [],
   "source": [
    "n_samples = 150\n",
    "X = make_blob_dataset(n_samples)\n",
    "x0 = np.zeros(len(X))\n",
    "K = rbf_kernel(X, X)\n",
    "C = 15.\n",
    "n_iter = 5000"
   ]
  },
  {
   "cell_type": "markdown",
   "metadata": {},
   "source": [
    "### QP"
   ]
  },
  {
   "cell_type": "code",
   "execution_count": 819,
   "metadata": {
    "collapsed": true
   },
   "outputs": [],
   "source": [
    "def qp_2(P, q, A, b, C, verbose=True):\n",
    "    # Gram matrix\n",
    "    n = P.shape[0]\n",
    "    P = cvxopt.matrix(P)\n",
    "    q = cvxopt.matrix(q)\n",
    "    A = None #cvxopt.matrix(A)\n",
    "    b = None #cvxopt.matrix(b)\n",
    "    G = cvxopt.matrix(np.concatenate([np.diag(np.ones(n) * -1),\n",
    "                                     np.diag(np.ones(n))], axis=0))\n",
    "    h = cvxopt.matrix(np.concatenate([np.zeros(n), C * np.ones(n)]))\n",
    "\n",
    "    # Solve QP problem\n",
    "    cvxopt.solvers.options['show_progress'] = verbose\n",
    "    solution = cvxopt.solvers.qp(P, q, G, h, A, b, solver='mosec')\n",
    " \n",
    "    return np.ravel(solution['x'])"
   ]
  },
  {
   "cell_type": "code",
   "execution_count": 820,
   "metadata": {},
   "outputs": [
    {
     "name": "stdout",
     "output_type": "stream",
     "text": [
      "Number of support vectors: 20\n",
      "-1.18120352969\n"
     ]
    }
   ],
   "source": [
    "# TODO\n",
    "def qp_solver(K, X, C=C):\n",
    "    P = K\n",
    "    q = - np.ones(P.shape[0])\n",
    "    A = None #np.zeros(P.shape[0]).reshape(1, P.shape[0])\n",
    "    b = None #0.0\n",
    "    C = C / P.shape[0]\n",
    "    mu = qp_2(P, q, A, b, C, verbose=False)\n",
    "    idx_support = np.where(np.abs(mu) > 1e-5)[0]\n",
    "    mu_support = mu[idx_support]\n",
    "    X_support = X[idx_support]\n",
    "    G = rbf_kernel(X, X)\n",
    "    min_svm = 1/2 * np.dot(mu, G.dot(mu)) - sum(mu)\n",
    "    return mu_support, idx_support, min_svm\n",
    "\n",
    "# Uncomment the following lines when your ocsvm_solver is completed:\n",
    "mu_support, idx_support, min_svm = qp_solver(K, X)\n",
    "print(\"Number of support vectors: %s\" % idx_support.size)\n",
    "print(min_svm)"
   ]
  },
  {
   "cell_type": "markdown",
   "metadata": {},
   "source": [
    "### Minimum and minimizer by L-BFGS-B"
   ]
  },
  {
   "cell_type": "code",
   "execution_count": 821,
   "metadata": {
    "collapsed": true
   },
   "outputs": [],
   "source": [
    "from scipy.optimize import fmin_l_bfgs_b\n",
    "def min_f(x):\n",
    "    return 0.5 * np.dot(K.dot(x), x) - np.sum(x)\n",
    "\n",
    "def f_grad(x):\n",
    "    return K.dot(x) - 1."
   ]
  },
  {
   "cell_type": "code",
   "execution_count": 826,
   "metadata": {
    "collapsed": true
   },
   "outputs": [],
   "source": [
    "#bfgs_inspector = inspector(loss_svm, x0, min_f, verbose=True)\n",
    "bounds = [(0, C / len(X)) for _ in range(len(X))]\n",
    "x_min, f_min, _ = fmin_l_bfgs_b(func=min_f, x0=x0, fprime=f_grad, \n",
    "                      maxiter=5000, bounds=bounds, \n",
    "                      iprint=0)"
   ]
  },
  {
   "cell_type": "markdown",
   "metadata": {},
   "source": [
    "### Proximal gradient with and without acceleration\n",
    "\n",
    "- From the previous lesson, we know that $\\sigma_{max}(GG^t)$ is the smoothness constant of $f(\\mu)$. We denote it as $\\mathcal{L}$.\n",
    "\n",
    "- Thus the update rule of the proximal gradient method is: \n",
    "$$prox_{\\frac{1}{\\mathcal{L}}g}(v) \\in Proj_{[0,\\frac{C}{n}]^n}[v - \\frac{1}{\\mathcal{L}}\\partial g(\\mu_{v})] = Proj_{[0,\\frac{C}{n}]^n}[v - \\frac{1}{\\mathcal{L}}(-\\boldsymbol{1}_n)]$$\n",
    "Where $v = \\mu-\\frac{1}{\\mathcal{L}}\\nabla f(\\mu)$ and $\\boldsymbol{1}_n = [1, \\ldots, 1]^T$\n",
    "\n",
    "- We use the rbf kernel to preprocess the data. Thus here $GG^t$ represents the Gram matrix using the rbf kernel.  "
   ]
  },
  {
   "cell_type": "code",
   "execution_count": 827,
   "metadata": {
    "collapsed": true
   },
   "outputs": [],
   "source": [
    "import time\n",
    "\n",
    "def loss_svm(x):\n",
    "    \"\"\"Smooth term of svm\"\"\"\n",
    "    return 0.5 * np.dot(K.dot(x), x)\n",
    "\n",
    "def grad_svm(x, K):\n",
    "    \"\"\"Gradient of the smooth term\"\"\"\n",
    "    return K.dot(x)\n",
    "\n",
    "def prox_indicator(x, C, s):\n",
    "    \"\"\"Proximal operator for the indicator function at x\"\"\"  \n",
    "    n = len(x)\n",
    "    return np.minimum(np.maximum(x + s * 1., 0), C / n)\n",
    "    \n",
    "def indicator(x):\n",
    "    \"\"\"Value of the indicator function at x\"\"\"\n",
    "    n = len(x)\n",
    "    if np.min(x) < 0:\n",
    "        return np.inf\n",
    "    elif np.max(x) > C / n:\n",
    "        return np.inf\n",
    "    else:\n",
    "        return -np.sum(x)\n",
    "    \n",
    "def loss_fun(x):\n",
    "    return loss_svm(x) + indicator(x)"
   ]
  },
  {
   "cell_type": "code",
   "execution_count": 828,
   "metadata": {
    "collapsed": true
   },
   "outputs": [],
   "source": [
    "def inspector(loss_fun, x_real, f_real, verbose=False):\n",
    "    \"\"\"A closure called to update metrics after each iteration.\"\"\"\n",
    "    objectives = []\n",
    "    errors = []\n",
    "    t0 = time.time()\n",
    "    it = [0] # This is a hack to be able to modify 'it' inside the closure.\n",
    "    timing = [] \n",
    "    def inspector_cl(xk):\n",
    "        obj = loss_fun(xk) - f_real\n",
    "        err = np.linalg.norm(xk - x_real)\n",
    "        tim = time.time() - t0\n",
    "        objectives.append(obj)\n",
    "        errors.append(err)\n",
    "        timing.append(tim)\n",
    "        if verbose == True:\n",
    "            if it[0] == 0:\n",
    "                print(' | '.join([name.center(8) for name in [\"it\", \"obj\", \"err\", \"time\"]]))\n",
    "            if it[0] % (n_iter / 5) == 0:\n",
    "                print(' | '.join([(\"%d\" % it[0]).rjust(8), (\"%.2e\" % obj).rjust(8), (\"%.2e\" % err).rjust(8), (\"%.4e\" % tim).rjust(8)]))\n",
    "            it[0] += 1\n",
    "    inspector_cl.obj = objectives\n",
    "    inspector_cl.err = errors\n",
    "    inspector_cl.timing = timing\n",
    "\n",
    "    return inspector_cl"
   ]
  },
  {
   "cell_type": "code",
   "execution_count": 829,
   "metadata": {
    "collapsed": true
   },
   "outputs": [],
   "source": [
    "### Proximal gradient without acceleration\n",
    "def ista(K, x0, f, grad_f, g, prox_g, step, C, n_iter,\n",
    "         x_true=None, verbose=True, callback=None):\n",
    "    \"\"\"Proximal gradient descent algorithm\n",
    "    \"\"\"\n",
    "    x = x0.copy()\n",
    "    x_new = x0.copy()\n",
    "    t0 = time.time()\n",
    "\n",
    "    # estimation error history\n",
    "    errors = []\n",
    "    # objective history\n",
    "    objectives = []\n",
    "    # timing history\n",
    "    timing = []\n",
    "    if x_true == None:\n",
    "        x_true = np.ones(len(x0))\n",
    "    # Current estimation error\n",
    "    err = np.linalg.norm(x - x_true) / np.linalg.norm(x_true)\n",
    "    errors.append(err)\n",
    "    # Current objective\n",
    "    obj = loss_fun(x)\n",
    "    objectives.append(obj)\n",
    "    if verbose:\n",
    "        print(\"Lauching ISTA solver...\")\n",
    "        print(' | '.join([name.center(8) for name in [\n",
    "            \"it\", \"obj\", \"err\", \"time\"]]))\n",
    "    for k in range(n_iter + 1):\n",
    "\n",
    "        ##############\n",
    "        x_new = prox_g(x - step * grad_f(x, K), C, s=step) # step = 1/L\n",
    "        x = x_new.copy()\n",
    "        ##############\n",
    "        \n",
    "        # Update metrics after each iteration.\n",
    "        if callback is not None: \n",
    "            callback(x)\n",
    "\n",
    "    return x\n",
    "\n",
    "\n",
    "# Proximal gradient with acceleration\n",
    "def fista(K, x0, f, grad_f, g, prox_g, step, C, n_iter=50,\n",
    "         x_true=None, verbose=True, callback=None):\n",
    "    \"\"\"Accelerated Proximal gradient descent algorithm\n",
    "    \"\"\"\n",
    "    x = x0.copy()\n",
    "    x_new = x0.copy()\n",
    "    # An extra variable is required for FISTA\n",
    "    z = x0.copy()\n",
    "    t0 = time.time()\n",
    "    # estimation error history\n",
    "    errors = []\n",
    "    # objective history\n",
    "    objectives = []\n",
    "    # timing history\n",
    "    timing = []\n",
    "    if x_true == None:\n",
    "        x_true = np.ones(len(x0))\n",
    "    # Current estimation error\n",
    "    err = np.linalg.norm(x - x_true) / np.linalg.norm(x_true)\n",
    "    errors.append(err)\n",
    "    # Current objective\n",
    "    obj = loss_fun(x)\n",
    "    objectives.append(obj)\n",
    "    t = 1.## beta\n",
    "    t_new = 1.    \n",
    "    if verbose:\n",
    "        print(\"Lauching ISTA solver...\")\n",
    "        print(' | '.join([name.center(8) for name in [\n",
    "            \"it\", \"obj\", \"err\", \"time\"]]))\n",
    "    for k in range(n_iter + 1):\n",
    "\n",
    "        x_new = prox_g(z - step*grad_f(z, K), C, s=step)\n",
    "        \n",
    "        ## Beta iteration\n",
    "        t_new = (1 + np.sqrt(1 + 4*t**2)) / 2\n",
    "        \n",
    "        ## z\n",
    "        z = x_new + ((t - 1) / t_new)*(x_new - x)\n",
    "        \n",
    "        x = x_new.copy()\n",
    "        t = t_new\n",
    "            \n",
    "        # Update metrics after each iteration.\n",
    "        if callback is not None: \n",
    "            callback(x)\n",
    "\n",
    "    return x"
   ]
  },
  {
   "cell_type": "markdown",
   "metadata": {},
   "source": [
    "### ISTA & FISTA"
   ]
  },
  {
   "cell_type": "code",
   "execution_count": 830,
   "metadata": {
    "collapsed": true
   },
   "outputs": [],
   "source": [
    "step = 1. / np.linalg.norm(K, 2)"
   ]
  },
  {
   "cell_type": "code",
   "execution_count": 831,
   "metadata": {
    "collapsed": true
   },
   "outputs": [],
   "source": [
    "ista_inspector = inspector(loss_fun, x_min, f_min, verbose=False)\n",
    "x_i  = ista(K, x0, loss_svm, grad_svm, indicator, prox_indicator, step, C, n_iter, callback=ista_inspector)"
   ]
  },
  {
   "cell_type": "code",
   "execution_count": 832,
   "metadata": {
    "collapsed": true
   },
   "outputs": [],
   "source": [
    "fista_inspector = inspector(loss_fun, x_min, f_min, verbose=False)\n",
    "x_f  = fista(K, x0, loss_svm, grad_svm, indicator, prox_indicator, step, C, n_iter, callback=fista_inspector)"
   ]
  },
  {
   "cell_type": "markdown",
   "metadata": {},
   "source": [
    "### Coordinate descent\n",
    "Here we use a stochastic coordinate descent. And we update $K_{i:}\\mu$ each time. But in bonus part, we propose another smart update."
   ]
  },
  {
   "cell_type": "code",
   "execution_count": 833,
   "metadata": {
    "collapsed": true
   },
   "outputs": [],
   "source": [
    "# Some definitions before launching the algorithms\n",
    "x0 = np.zeros(X.shape[0])"
   ]
  },
  {
   "cell_type": "code",
   "execution_count": 841,
   "metadata": {
    "collapsed": true
   },
   "outputs": [],
   "source": [
    "# generate indices of random samples\n",
    "iis = np.random.randint(0, len(X), len(X) * n_iter)  "
   ]
  },
  {
   "cell_type": "code",
   "execution_count": 842,
   "metadata": {
    "collapsed": true
   },
   "outputs": [],
   "source": [
    "def prox_indicator_x(x, coef, s):\n",
    "    \"\"\"Proximal operator for the indicator function at x\"\"\" \n",
    "    # x is a float\n",
    "    return np.minimum(np.maximum(x + s * 1., 0), coef)\n",
    "    \n",
    "def indicator_x(x):\n",
    "    \"\"\"Value of the indicator function at x\"\"\"\n",
    "    if np.min(x) < 0:\n",
    "        return np.inf\n",
    "    elif np.max(x) > C / n_samples:\n",
    "        return np.inf\n",
    "    else:\n",
    "        return -np.sum(x)"
   ]
  },
  {
   "cell_type": "code",
   "execution_count": 849,
   "metadata": {
    "collapsed": true
   },
   "outputs": [],
   "source": [
    "def cd_svm(x0, X, g, prox_g, n_iter=50, C=1,\n",
    "              x_true=np.ones(X.shape[0]), verbose=True, callback=None):\n",
    "    \"\"\"Proximal gradient descent algorithm\n",
    "\n",
    "    Minimize :\n",
    "    \n",
    "    1/2 mu.T K mu + s * g(x)\n",
    "    \n",
    "    with coordinate descent.\n",
    "    \"\"\"\n",
    "    x = x0.copy()\n",
    "    x_new = x0.copy()\n",
    "    x_sum = x0.copy()\n",
    "    \n",
    "    n_samples, n_features = X.shape\n",
    "    \n",
    "    K = rbf_kernel(X, X)\n",
    "\n",
    "    # estimation error history\n",
    "    errors = []\n",
    "    # objective history\n",
    "    objectives = []\n",
    "    # Current estimation error\n",
    "    err = np.linalg.norm(x - x_true) / np.linalg.norm(x_true)\n",
    "    errors.append(err)\n",
    "    # Current objective\n",
    "    obj = 0.5 * np.dot(K.dot(x), x)  + g(x)\n",
    "    objectives.append(obj)\n",
    "\n",
    "    if verbose:\n",
    "        print(\"Launching Coordinate Descent solver...\")\n",
    "        print(' | '.join([name.center(8) for name in [\"it\", \"obj\", \"err\"]]))\n",
    "        \n",
    "    for k in range(n_iter):\n",
    "        i = iis[k]\n",
    "        x_new[i] -= 1/K[i, i]*np.dot(K[i], x)\n",
    "        x_new[i] = prox_g(x_new[i], C/n_samples, s=1/K[i, i])\n",
    "        \n",
    "        x = x_new.copy()\n",
    "        x_sum += x\n",
    "        \n",
    "        # Update metrics after each iteration.\n",
    "        if callback is not None and k % n_samples == 0: \n",
    "            callback(x)\n",
    "\n",
    "    return x_sum / n_iter"
   ]
  },
  {
   "cell_type": "code",
   "execution_count": 850,
   "metadata": {
    "collapsed": true
   },
   "outputs": [],
   "source": [
    "cd_inspector = inspector(loss_fun, x_min, f_min, verbose=False)\n",
    "x_cd = cd_svm(x0, X, indicator_x, prox_indicator_x, n_iter=len(X)*n_iter, C=C,\n",
    "                 x_true=np.ones(X.shape[0]), verbose=False, callback=cd_inspector)"
   ]
  },
  {
   "cell_type": "markdown",
   "metadata": {},
   "source": [
    "### L-BFGS-B"
   ]
  },
  {
   "cell_type": "code",
   "execution_count": 845,
   "metadata": {
    "collapsed": true
   },
   "outputs": [],
   "source": [
    "from scipy.optimize import fmin_l_bfgs_b\n",
    "def min_f(x):\n",
    "    return 0.5 * np.dot(K.dot(x), x) - np.sum(x)\n",
    "\n",
    "def f_grad(x):\n",
    "    return K.dot(x) - 1."
   ]
  },
  {
   "cell_type": "code",
   "execution_count": 846,
   "metadata": {
    "collapsed": true
   },
   "outputs": [],
   "source": [
    "#bfgs_inspector = inspector(loss_svm, x0, min_f, verbose=True)\n",
    "bounds = [(0, C / len(X)) for _ in range(len(X))]\n",
    "bfgs_inspector = inspector(loss_fun, x_min, f_min, verbose=False)\n",
    "_, _, _ = fmin_l_bfgs_b(func=min_f, x0=x0, fprime=f_grad, \n",
    "                        maxiter=n_iter, bounds=bounds, \n",
    "                        callback=bfgs_inspector)"
   ]
  },
  {
   "cell_type": "markdown",
   "metadata": {},
   "source": [
    "### Performance plot"
   ]
  },
  {
   "cell_type": "code",
   "execution_count": 851,
   "metadata": {},
   "outputs": [
    {
     "data": {
      "image/png": "[encoded data removed]",
      "text/plain": [
       "<matplotlib.figure.Figure at 0x11580aa90>"
      ]
     },
     "metadata": {},
     "output_type": "display_data"
    }
   ],
   "source": [
    "plt.figure(figsize=(15, 5))\n",
    "\n",
    "plt.subplot(1, 2, 1)\n",
    "\n",
    "inspectors = [ista_inspector, fista_inspector, cd_inspector, bfgs_inspector]\n",
    "\n",
    "solvers = [\"ISTA\", \"FISTA\", \"CD\", \"BFGS\"]\n",
    "\n",
    "for insp in inspectors:\n",
    "    plt.semilogy(insp.obj, lw=2)\n",
    "    plt.title(\"Loss\", fontsize=18)\n",
    "    plt.xlabel(\"Epoch\", fontsize=14)\n",
    "    plt.ylabel(\"objective\", fontsize=14)\n",
    "\n",
    "plt.legend(solvers)\n",
    "\n",
    "plt.subplot(1, 2, 2)\n",
    "\n",
    "for insp in inspectors:\n",
    "    plt.semilogy(insp.err, lw=2)\n",
    "    plt.title(\"Distance to optimum\", fontsize=18)\n",
    "    plt.xlabel(\"Epoch\", fontsize=14)\n",
    "    plt.ylabel(\"$\\|x_k - x^*\\|_2$\", fontsize=14)\n",
    "\n",
    "plt.legend(solvers);"
   ]
  },
  {
   "cell_type": "markdown",
   "metadata": {},
   "source": [
    "### Performance comparation\n",
    "- First of all, we choose the accurate minimum and minimizer by L-BFGS-B of high-iteration. Then we compare results of all four algorithms. \n",
    "- Iteration number is 5000 and sample size is 150.\n",
    "- After trying several C values, we choose 15 as an appropriate C.\n",
    "- From the loss and distance to optimum, the order of performance is $ISTA<FISTA<L-BFGS-B<CG$. Coordinate descent is the best one. It converges faster than others and has the minimum loss and distance to optimum. For each epoch, coordinate descent iterate the number of samples n times, which means that it adjusts directions n times more than other algorithms. However, after the convergence, the distance to optimum of coordinate descente bonce and remains stable. Then FISTA flatuates around the distance to optimum of coordinate descent.  \n",
    "- L-BFGS-B also has a good performance because it is a seconde order method. In this case, L-BFGS-B performs worse than coordinate descent. Compared to the last lab where L-BFGS-B performs better than coordinate descent, maybe it depends on dataset.\n",
    "- FISTA converges with bounds which we have already seen in previous labs. However, when we choose a different C like 10, we cannot observe clear bounds. Besides, FISTA converges and performs better than ISTA. "
   ]
  },
  {
   "cell_type": "code",
   "execution_count": 848,
   "metadata": {},
   "outputs": [
    {
     "data": {
      "text/plain": [
       "<matplotlib.legend.Legend at 0x11716f0f0>"
      ]
     },
     "execution_count": 848,
     "metadata": {},
     "output_type": "execute_result"
    },
    {
     "data": {
      "image/png": "[encoded data removed]",
      "text/plain": [
       "<matplotlib.figure.Figure at 0x11dbc6be0>"
      ]
     },
     "metadata": {},
     "output_type": "display_data"
    }
   ],
   "source": [
    "plt.figure(figsize=(8, 4.5))\n",
    "\n",
    "plt.subplot(1, 1, 1)\n",
    "\n",
    "inspectors = [ista_inspector, fista_inspector, cd_inspector, bfgs_inspector]\n",
    "\n",
    "solvers = [\"ISTA\", \"FISTA\", \"CD\", \"BFGS\"]\n",
    "\n",
    "for insp in inspectors:\n",
    "    plt.semilogy(insp.timing, lw=2)\n",
    "    plt.title(\"Timing\", fontsize=18)\n",
    "    plt.xlabel(\"Epoch\", fontsize=14)\n",
    "    plt.ylabel(\"Time\", fontsize=14)\n",
    "\n",
    "plt.legend(solvers)"
   ]
  },
  {
   "cell_type": "markdown",
   "metadata": {},
   "source": [
    "### Computation time\n",
    "\n",
    "- In terms of computation time, we have: $CD > BFGS> FISTA \\approx ISTA$.The last three methods are close in terms of computation time. BFGS is slower than ISTA and FISTA as it involves doing Cholesky factorization and line search and that it is more time-consuming for each iteration. CD is much more time-consuming than other methods as we compare the time of number of samples n iterations in the coordinate descent method with one iteration in other methods. In coordinate descent method, we do n times more iterations in a loop, which may implicate n times more type checking and other costs for implementing iterations in loops in Python. Thus it is slow. Normally, FISTA should be slower than ISTA. Here the observation does not match this expectation, which may be due to the fact that the difference is not so obvious."
   ]
  },
  {
   "cell_type": "markdown",
   "metadata": {},
   "source": [
    "You will test your implementations on the Gaussian blob corrupted with some uniform noise obtained with `make_blob_dataset` function.\n",
    "\n",
    "You will make sure that all solvers converge towards the same minimum !\n",
    "\n",
    "You will evaluate the performance of your implementations in terms of computation time on problems where the matrix $G G^\\top$ can fit in memory on your machine.\n",
    "\n",
    "**You should reuse as much as possible the convergence evaluation code that you used during the labs.\n",
    "\n",
    "**Remark:** For the coordinate descent method there exist some smart updates provided you use a linear kernel.\n",
    "\n",
    "**BONUS (Hard):** Explain without implementing it how such smart updates could work for the coordinate descent solver.\n",
    "\n",
    "**IMPORTANT : This question 12 is the most important and will constitute half of the final grade on the project !**"
   ]
  },
  {
   "cell_type": "markdown",
   "metadata": {},
   "source": [
    "**BONUS**\n",
    "\n",
    "- In our implementation, we update $\\mu_i$ with $Prox_{\\frac{1}{K_{ii}}g}(\\mu_i-\\nabla f_i(\\mu))=Prox_{\\frac{1}{K_{ii}}g}(\\mu_i-K_i^\\top \\mu)$ where $K_i$ is the $i^{th}$ row of $K$. In this case, the computation cost is of $O(n)$ with $n$ the number of samples.\n",
    "\n",
    "- Another possible way of doing smart update is to store $K\\mu$ in memory and each time we use its $i^{th}$ element to update $\\mu_i$ and we update the $K\\mu$ by $K\\mu+K_{:i}\\mu_{i}^{new}-K_{:i}\\mu_{i}^{old}$, which also has a computation cost of $O(n)$."
   ]
  }
 ],
 "metadata": {
  "kernelspec": {
   "display_name": "cvxopt",
   "language": "python",
   "name": "root"
  },
  "language_info": {
   "codemirror_mode": {
    "name": "ipython",
    "version": 3
   },
   "file_extension": ".py",
   "mimetype": "text/x-python",
   "name": "python",
   "nbconvert_exporter": "python",
   "pygments_lexer": "ipython3",
   "version": "3.5.4"
  }
 },
 "nbformat": 4,
 "nbformat_minor": 1
}
